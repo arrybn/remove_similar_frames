{
 "cells": [
  {
   "cell_type": "markdown",
   "metadata": {},
   "source": [
    "# Brainstorming\n",
    "\n",
    "Why do we need such data? Having in mind the Kopernikus' area of reseach and development, this dataset could be used for object detection, objects 3D bbox estimation, semantic segmentation, motion planning. For all of these applications, the annotated dataset is required. So, in the end, it's highly likely, that these images will be manually or semi-manually annotated.\n",
    "Removing similar frames could be reqired to:\n",
    "* maintain the greater data diversity\n",
    "* reducing the cost of labelling\n",
    "\n",
    "So, it's necessary to formulate what similarity means in this setting of stationary cameras observing parking lots:\n",
    "* frames from different cameras can be assumed being non-similar, if we can gurantee the correcness of cameras ids. This assumption allows us to exclude the cross-camera similarity checking\n",
    "* frames for the same camera from different time of the day should not be considered similar even if the used algorithm gives us the low metric. The lighting conditions aren't always reflected in sharp borders\n",
    "* "
   ]
  },
  {
   "cell_type": "markdown",
   "metadata": {},
   "source": [
    "# Ideas to improve data collection\n",
    "* use the similarity estimation during the collection\n",
    "* save the frames according to the similarity, and not with regular intervals. Because it's parking lots, people spend there not a lot of time, meaning 5 min interval could be too big and we miss important frames\n",
    "* use weather contions as additional information. "
   ]
  }
 ],
 "metadata": {
  "language_info": {
   "name": "python"
  }
 },
 "nbformat": 4,
 "nbformat_minor": 2
}
